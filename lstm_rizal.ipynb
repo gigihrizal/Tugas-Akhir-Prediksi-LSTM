{
  "nbformat": 4,
  "nbformat_minor": 0,
  "metadata": {
    "colab": {
      "provenance": []
    },
    "kernelspec": {
      "name": "python3",
      "display_name": "Python 3"
    },
    "language_info": {
      "name": "python"
    }
  },
  "cells": [
    {
      "cell_type": "code",
      "execution_count": null,
      "metadata": {
        "id": "vICO6qfkIewe"
      },
      "outputs": [],
      "source": [
        "# Import Library & Set Seed\n",
        "\n",
        "import random\n",
        "import numpy as np\n",
        "import tensorflow as tf\n",
        "import pandas as pd\n",
        "from sklearn.preprocessing import MinMaxScaler\n",
        "from sklearn.metrics import mean_absolute_error\n",
        "from tensorflow.keras.models import Sequential\n",
        "from tensorflow.keras.layers import LSTM, Dense\n",
        "import matplotlib.pyplot as plt\n",
        "\n",
        "# Set seed biar hasil reproducible\n",
        "seed_value = 7\n",
        "random.seed(seed_value)\n",
        "np.random.seed(seed_value)\n",
        "tf.random.set_seed(seed_value)\n",
        "\n",
        "print(\"Library imported & seed set.\")\n"
      ]
    },
    {
      "cell_type": "code",
      "source": [
        "csv_path = '../dataset_lstm/dataset_1.csv'\n",
        "df = pd.read_csv(csv_path)\n",
        "print(\"Data loaded! Jumlah baris:\", len(df))\n",
        "print(df.head())"
      ],
      "metadata": {
        "id": "lM3V9VKLIo5U"
      },
      "execution_count": null,
      "outputs": []
    },
    {
      "cell_type": "code",
      "source": [
        "#Ekstrak & Normalisasi Kolom bus_voltage\n",
        "\n",
        "data_target = df['bus_voltage'].values.reshape(-1, 1)\n",
        "\n",
        "# Normalisasi\n",
        "scaler = MinMaxScaler()\n",
        "data_scaled = scaler.fit_transform(data_target)\n",
        "print(\"Data dinormalisasi.\")\n",
        "print(\"Contoh data asli:\", data_target[:5].flatten())\n",
        "print(\"Contoh data norm:\", data_scaled[:5].flatten())"
      ],
      "metadata": {
        "id": "i2MGxDGbIrXF"
      },
      "execution_count": null,
      "outputs": []
    },
    {
      "cell_type": "code",
      "source": [
        "#Sliding Window\n",
        "\n",
        "WINDOW_SIZE = 10   # Bisa diubah\n",
        "FUTURE_STEP = 1\n",
        "\n",
        "X, y = [], []\n",
        "for i in range(len(data_scaled) - WINDOW_SIZE - FUTURE_STEP + 1):\n",
        "    X.append(data_scaled[i:i+WINDOW_SIZE, 0])\n",
        "    y.append(data_scaled[i+WINDOW_SIZE:i+WINDOW_SIZE+FUTURE_STEP, 0])\n",
        "X = np.array(X)\n",
        "y = np.array(y)\n",
        "X = X.reshape((X.shape[0], X.shape[1], 1))\n",
        "\n",
        "print(f\"Sliding window done! X shape: {X.shape}, y shape: {y.shape}\")\n"
      ],
      "metadata": {
        "id": "jBYLo93yIsD-"
      },
      "execution_count": null,
      "outputs": []
    },
    {
      "cell_type": "code",
      "source": [
        "#split data\n",
        "split = int(0.8 * len(X))\n",
        "X_train, X_test = X[:split], X[split:]\n",
        "y_train, y_test = y[:split], y[split:]\n",
        "\n",
        "print(f\"Train size: {X_train.shape[0]}, Test size: {X_test.shape[0]}\")\n"
      ],
      "metadata": {
        "id": "v7tZCyTXIuxC"
      },
      "execution_count": null,
      "outputs": []
    },
    {
      "cell_type": "code",
      "source": [
        "#model dan pelatihan\n",
        "model = Sequential([\n",
        "    LSTM(64, input_shape=(WINDOW_SIZE, 1)),\n",
        "    Dense(FUTURE_STEP),\n",
        "])\n",
        "model.compile(optimizer='adam', loss='mse')\n",
        "model.summary()\n",
        "\n",
        "EPOCHS = 20\n",
        "BATCH_SIZE = 32\n",
        "history = model.fit(X_train, y_train, epochs=EPOCHS, batch_size=BATCH_SIZE,\n",
        "                    validation_data=(X_test, y_test), verbose=1)\n",
        "\n",
        "print(\"Training selesai.\")\n",
        "\n",
        "#Plot Loss\n",
        "plt.figure(figsize=(7,4))\n",
        "plt.plot(history.history['loss'], label='Training Loss')\n",
        "plt.plot(history.history['val_loss'], label='Validation Loss')\n",
        "plt.title('Learning Curve (Loss)')\n",
        "plt.xlabel('Epoch')\n",
        "plt.ylabel('MSE Loss')\n",
        "plt.legend()\n",
        "plt.grid(True)\n",
        "plt.show()\n"
      ],
      "metadata": {
        "id": "b3mDmfOQIwjv"
      },
      "execution_count": null,
      "outputs": []
    },
    {
      "cell_type": "code",
      "source": [
        "#Prediksi Data Test dan Inverse\n",
        "\n",
        "y_test_pred = model.predict(X_test)\n",
        "y_test_pred_inv = scaler.inverse_transform(y_test_pred)[:, 0]\n",
        "y_test_inv = scaler.inverse_transform(y_test)[:, 0]\n",
        "\n",
        "print(\"Prediksi pada data test selesai.\")\n",
        "print(\"Contoh prediksi:\", y_test_pred_inv[:5])\n",
        "print(\"Contoh aktual:\", y_test_inv[:5])\n"
      ],
      "metadata": {
        "id": "AANKQ-ErI2O_"
      },
      "execution_count": null,
      "outputs": []
    },
    {
      "cell_type": "code",
      "source": [
        "index_data_asli = split + WINDOW_SIZE + np.arange(len(y_test))\n",
        "\n",
        "df_hasil = pd.DataFrame({\n",
        "    'No': np.arange(1, len(y_test_inv) + 1),\n",
        "    'Index Data Asli': index_data_asli,\n",
        "    'Data Real': np.round(y_test_inv, 7),\n",
        "    'Data Predict': np.round(y_test_pred_inv, 8)\n",
        "})\n",
        "df_hasil['Error'] = np.abs(df_hasil['Data Real'] - df_hasil['Data Predict'])\n",
        "\n",
        "print(\"5 data awal:\")\n",
        "print(df_hasil.head(5))\n",
        "print('\\n5 data tengah:')\n",
        "mid_idx = len(df_hasil) // 2\n",
        "print(df_hasil.iloc[mid_idx-2:mid_idx+3])\n",
        "print('\\n5 data akhir:')\n",
        "print(df_hasil.tail(5))\n",
        "\n",
        "total_error = df_hasil['Error'].sum()\n",
        "print(\"\\nTotal Error (sum of absolute error):\", total_error)\n"
      ],
      "metadata": {
        "id": "C0nwZXLMI5fq"
      },
      "execution_count": null,
      "outputs": []
    },
    {
      "cell_type": "code",
      "source": [
        "#Plot Actual (All Data) vs Prediksi (Test Saja, Index Asli)\n",
        "\n",
        "predicted_full = np.full(df.shape[0], np.nan)\n",
        "predicted_full[index_data_asli] = y_test_pred_inv\n",
        "\n",
        "plt.figure(figsize=(24,8))\n",
        "plt.plot(df['bus_voltage'].values, label='Actual bus_voltage (All Data)', color='blue')\n",
        "plt.plot(predicted_full, label='Predicted bus_voltage (Test only)', color='red')\n",
        "interval = 3600\n",
        "n = len(df['bus_voltage'])\n",
        "for i in range(interval, n, interval):\n",
        "    plt.axvline(i, color='red', linestyle='--', linewidth=1)\n",
        "plt.title('Prediksi vs Aktual Bus Voltage (Full Data; Prediksi hanya di area Test)')\n",
        "plt.xlabel('Sample')\n",
        "plt.ylabel('bus_voltage')\n",
        "plt.legend()\n",
        "plt.grid(True)\n",
        "plt.show()\n"
      ],
      "metadata": {
        "id": "mQfpYskmI64-"
      },
      "execution_count": null,
      "outputs": []
    },
    {
      "cell_type": "code",
      "source": [
        "#Plot Prediksi vs Aktual (Test Set Saja)\n",
        "\n",
        "plt.figure(figsize=(12,6))\n",
        "plt.plot(y_test_inv, label='Actual bus_voltage (Test)', color='blue')\n",
        "plt.plot(y_test_pred_inv, label='Predicted bus_voltage (Test)', color='red', linestyle='--')\n",
        "n_test = len(y_test_inv)\n",
        "interval = 3600\n",
        "for i in range(interval, n_test, interval):\n",
        "    plt.axvline(i, color='red', linestyle='--', linewidth=1)\n",
        "plt.title('Prediksi vs Aktual Bus Voltage (Test Set Saja)')\n",
        "plt.xlabel('Sample (Test)')\n",
        "plt.ylabel('bus_voltage')\n",
        "plt.legend()\n",
        "plt.grid(True)\n",
        "plt.show()\n"
      ],
      "metadata": {
        "id": "xX5HcxbOI8RF"
      },
      "execution_count": null,
      "outputs": []
    },
    {
      "cell_type": "code",
      "source": [
        "# MAE otomatis dari sklearn\n",
        "mae_otomatis = mean_absolute_error(y_test_inv, y_test_pred_inv)\n",
        "print(f\"MAE otomatis (sklearn): {mae_otomatis:.6f}\")\n",
        "\n",
        "# MAE manual: dari total error dibagi jumlah data test\n",
        "mae_manual = total_error / len(df_hasil)\n",
        "print(f\"MAE manual (total error / n): {mae_manual:.6f}\")\n"
      ],
      "metadata": {
        "id": "BYJfYtx3JAKZ"
      },
      "execution_count": null,
      "outputs": []
    },
    {
      "cell_type": "code",
      "source": [
        "#Simpan Tabel ke CSV (Opsional)\n",
        "\n",
        "df_hasil.to_csv('hasil_prediksi_lstm_test_final.csv', index=False)\n",
        "print(\"Tabel hasil disimpan ke hasil_prediksi_lstm_test_final.csv\")"
      ],
      "metadata": {
        "id": "M8_zWonoJDNS"
      },
      "execution_count": null,
      "outputs": []
    }
  ]
}